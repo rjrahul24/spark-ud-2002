{
  "nbformat": 4,
  "nbformat_minor": 0,
  "metadata": {
    "colab": {
      "name": "Functional V/S Procedural Programming.ipynb",
      "provenance": [],
      "authorship_tag": "ABX9TyN0QKpp/muoYJWaEBfQrGsg",
      "include_colab_link": true
    },
    "kernelspec": {
      "name": "python3",
      "display_name": "Python 3"
    },
    "language_info": {
      "name": "python"
    }
  },
  "cells": [
    {
      "cell_type": "markdown",
      "metadata": {
        "id": "view-in-github",
        "colab_type": "text"
      },
      "source": [
        "<a href=\"https://colab.research.google.com/github/rjrahul24/spark-ud-2002/blob/master/Functional_V_S_Procedural_Programming.ipynb\" target=\"_parent\"><img src=\"https://colab.research.google.com/assets/colab-badge.svg\" alt=\"Open In Colab\"/></a>"
      ]
    },
    {
      "cell_type": "markdown",
      "metadata": {
        "id": "wBu_Zxpk_5-s"
      },
      "source": [
        "# Procedural Programming\n",
        "\n",
        "In this notebook we will try to differenciate Procedural Programming from Functional Programming and understand why it's important for a language like Spark to use Functional Programming.\n",
        "\n",
        "You'll notice that the first time you run `count_occurences(\"Messi\")`, you get the correct count. However, when you run the same code again `count_occurences(\"Messi\")`, the results are no longer correct.This is because the global variable `player_count` stores the results outside of the count_occurences function. \n",
        "\n",
        "# Instructions\n",
        "\n",
        "Run the code cells in this notebook to see the problem with Procedural Programming Techniques for multithreaded applications."
      ]
    },
    {
      "cell_type": "code",
      "metadata": {
        "id": "r2kwFlJ8_zhY"
      },
      "source": [
        "players_log = [\n",
        "        \"Messi\",\n",
        "        \"Ronaldo\",\n",
        "        \"Maradona\",\n",
        "        \"Messi\",\n",
        "        \"Lewandowski\",\n",
        "        \"Mbappe\",\n",
        "        \"Ronaldo\",\n",
        "        \"Messi\",\n",
        "        \"Neymar\"\n",
        "]"
      ],
      "execution_count": 1,
      "outputs": []
    },
    {
      "cell_type": "code",
      "metadata": {
        "id": "2H1JS_xcA89P"
      },
      "source": [
        "player_count = 0"
      ],
      "execution_count": 2,
      "outputs": []
    },
    {
      "cell_type": "code",
      "metadata": {
        "id": "k5PX8I9SBCgF"
      },
      "source": [
        "def count_occurences(player_name):\n",
        "    global player_count\n",
        "    for player in players_log:\n",
        "        if player == player_name:\n",
        "            player_count = player_count + 1\n",
        "    return player_count"
      ],
      "execution_count": 3,
      "outputs": []
    },
    {
      "cell_type": "code",
      "metadata": {
        "colab": {
          "base_uri": "https://localhost:8080/"
        },
        "id": "wlkfRwjNBSU6",
        "outputId": "f127f36e-631d-4722-98b0-8d8e6a4afc07"
      },
      "source": [
        "# First Run\n",
        "\n",
        "count_occurences(\"Messi\")"
      ],
      "execution_count": 5,
      "outputs": [
        {
          "output_type": "execute_result",
          "data": {
            "text/plain": [
              "3"
            ]
          },
          "metadata": {
            "tags": []
          },
          "execution_count": 5
        }
      ]
    },
    {
      "cell_type": "code",
      "metadata": {
        "colab": {
          "base_uri": "https://localhost:8080/"
        },
        "id": "1rIAMdRnBXT9",
        "outputId": "7cb0c4cd-dedd-4fa5-e410-5e9dfa482510"
      },
      "source": [
        "# Second Run\n",
        "\n",
        "count_occurences(\"Messi\")"
      ],
      "execution_count": 6,
      "outputs": [
        {
          "output_type": "execute_result",
          "data": {
            "text/plain": [
              "6"
            ]
          },
          "metadata": {
            "tags": []
          },
          "execution_count": 6
        }
      ]
    },
    {
      "cell_type": "code",
      "metadata": {
        "colab": {
          "base_uri": "https://localhost:8080/"
        },
        "id": "J_nzLrKlBdq-",
        "outputId": "4d681265-913e-4697-915f-c948a1c38913"
      },
      "source": [
        "# Third Run\n",
        "\n",
        "count_occurences(\"Messi\")"
      ],
      "execution_count": 7,
      "outputs": [
        {
          "output_type": "execute_result",
          "data": {
            "text/plain": [
              "9"
            ]
          },
          "metadata": {
            "tags": []
          },
          "execution_count": 7
        }
      ]
    },
    {
      "cell_type": "code",
      "metadata": {
        "id": "UOQaOExmBfeb"
      },
      "source": [
        ""
      ],
      "execution_count": null,
      "outputs": []
    }
  ]
}