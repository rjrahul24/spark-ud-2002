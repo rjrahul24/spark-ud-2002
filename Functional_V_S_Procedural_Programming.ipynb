{
  "nbformat": 4,
  "nbformat_minor": 0,
  "metadata": {
    "colab": {
      "name": "Functional V/S Procedural Programming.ipynb",
      "provenance": [],
      "authorship_tag": "ABX9TyN7PuOdi0gT8+k026UDoil2",
      "include_colab_link": true
    },
    "kernelspec": {
      "name": "python3",
      "display_name": "Python 3"
    },
    "language_info": {
      "name": "python"
    }
  },
  "cells": [
    {
      "cell_type": "markdown",
      "metadata": {
        "id": "view-in-github",
        "colab_type": "text"
      },
      "source": [
        "<a href=\"https://colab.research.google.com/github/rjrahul24/spark-ud-2002/blob/master/Functional_V_S_Procedural_Programming.ipynb\" target=\"_parent\"><img src=\"https://colab.research.google.com/assets/colab-badge.svg\" alt=\"Open In Colab\"/></a>"
      ]
    },
    {
      "cell_type": "markdown",
      "metadata": {
        "id": "wBu_Zxpk_5-s"
      },
      "source": [
        "# Procedural Programming\n",
        "\n",
        "In this notebook we will try to differenciate Procedural Programming from Functional Programming and understand why it's important for a language like Spark to use Functional Programming.\n",
        "\n",
        "You'll notice that the first time you run `count_occurences(\"Messi\")`, you get the correct count. However, when you run the same code again `count_occurences(\"Messi\")`, the results are no longer correct.This is because the global variable `player_count` stores the results outside of the count_occurences function. \n",
        "\n",
        "# Instructions\n",
        "\n",
        "Run the code cells in this notebook to see the problem with Procedural Programming Techniques for multithreaded applications."
      ]
    },
    {
      "cell_type": "code",
      "metadata": {
        "id": "r2kwFlJ8_zhY"
      },
      "source": [
        "players_log = [\n",
        "        \"Messi\",\n",
        "        \"Ronaldo\",\n",
        "        \"Maradona\",\n",
        "        \"Messi\",\n",
        "        \"Lewandowski\",\n",
        "        \"Mbappe\",\n",
        "        \"Ronaldo\",\n",
        "        \"Messi\",\n",
        "        \"Neymar\"\n",
        "]"
      ],
      "execution_count": 1,
      "outputs": []
    },
    {
      "cell_type": "code",
      "metadata": {
        "id": "2H1JS_xcA89P"
      },
      "source": [
        "player_count = 0"
      ],
      "execution_count": 2,
      "outputs": []
    },
    {
      "cell_type": "code",
      "metadata": {
        "id": "k5PX8I9SBCgF"
      },
      "source": [
        "def count_occurences(player_name):\n",
        "    global player_count\n",
        "    for player in players_log:\n",
        "        if player == player_name:\n",
        "            player_count = player_count + 1\n",
        "    return player_count"
      ],
      "execution_count": 3,
      "outputs": []
    },
    {
      "cell_type": "code",
      "metadata": {
        "colab": {
          "base_uri": "https://localhost:8080/"
        },
        "id": "wlkfRwjNBSU6",
        "outputId": "f127f36e-631d-4722-98b0-8d8e6a4afc07"
      },
      "source": [
        "# First Run\n",
        "\n",
        "count_occurences(\"Messi\")"
      ],
      "execution_count": 5,
      "outputs": [
        {
          "output_type": "execute_result",
          "data": {
            "text/plain": [
              "3"
            ]
          },
          "metadata": {
            "tags": []
          },
          "execution_count": 5
        }
      ]
    },
    {
      "cell_type": "code",
      "metadata": {
        "colab": {
          "base_uri": "https://localhost:8080/"
        },
        "id": "1rIAMdRnBXT9",
        "outputId": "7cb0c4cd-dedd-4fa5-e410-5e9dfa482510"
      },
      "source": [
        "# Second Run\n",
        "\n",
        "count_occurences(\"Messi\")"
      ],
      "execution_count": 6,
      "outputs": [
        {
          "output_type": "execute_result",
          "data": {
            "text/plain": [
              "6"
            ]
          },
          "metadata": {
            "tags": []
          },
          "execution_count": 6
        }
      ]
    },
    {
      "cell_type": "code",
      "metadata": {
        "colab": {
          "base_uri": "https://localhost:8080/"
        },
        "id": "J_nzLrKlBdq-",
        "outputId": "4d681265-913e-4697-915f-c948a1c38913"
      },
      "source": [
        "# Third Run\n",
        "\n",
        "count_occurences(\"Messi\")"
      ],
      "execution_count": 7,
      "outputs": [
        {
          "output_type": "execute_result",
          "data": {
            "text/plain": [
              "9"
            ]
          },
          "metadata": {
            "tags": []
          },
          "execution_count": 7
        }
      ]
    },
    {
      "cell_type": "markdown",
      "metadata": {
        "id": "PodxFdGED7-K"
      },
      "source": [
        "# How to Solve the Issue\n",
        "\n",
        "How might you solve this issue? You could get rid of the global variable and instead use player_count as an input to the function:\n",
        "\n",
        "```python\n",
        "def count_occurences(player_name, player_count):\n",
        "    for player in players_log:\n",
        "        if player == player_name:\n",
        "            player_count = player_count + 1\n",
        "    return player_count\n",
        "\n",
        "```\n",
        "\n",
        "How would this work with parallel programming? Spark splits up data onto multiple machines. If your songs list were split onto two machines, Machine A would first need to finish counting, and then return its own result to Machine B. And then Machine B could use the output from Machine A and add to the count.\n",
        "\n",
        "However, that isn't parallel computing. Machine B would have to wait until Machine A finishes. You'll see in the next parts of the lesson how Spark solves this issue with a functional programming paradigm.\n",
        "\n",
        "In Spark, if your data is split onto two different machines, machine A will run a function to count how many times 'Despacito' appears on machine A. Machine B will simultaneously run a function to count how many times 'Despacito' appears on machine B. After they finish counting individually, they'll combine their results together. You'll see how this works in the next parts of the lesson."
      ]
    },
    {
      "cell_type": "code",
      "metadata": {
        "colab": {
          "base_uri": "https://localhost:8080/"
        },
        "id": "UOQaOExmBfeb",
        "outputId": "f3d35276-30b9-4b54-9c10-8f6138c69233"
      },
      "source": [
        "pip install pyspark"
      ],
      "execution_count": 1,
      "outputs": [
        {
          "output_type": "stream",
          "text": [
            "Collecting pyspark\n",
            "\u001b[?25l  Downloading https://files.pythonhosted.org/packages/89/db/e18cfd78e408de957821ec5ca56de1250645b05f8523d169803d8df35a64/pyspark-3.1.2.tar.gz (212.4MB)\n",
            "\u001b[K     |████████████████████████████████| 212.4MB 68kB/s \n",
            "\u001b[?25hCollecting py4j==0.10.9\n",
            "\u001b[?25l  Downloading https://files.pythonhosted.org/packages/9e/b6/6a4fb90cd235dc8e265a6a2067f2a2c99f0d91787f06aca4bcf7c23f3f80/py4j-0.10.9-py2.py3-none-any.whl (198kB)\n",
            "\u001b[K     |████████████████████████████████| 204kB 18.5MB/s \n",
            "\u001b[?25hBuilding wheels for collected packages: pyspark\n",
            "  Building wheel for pyspark (setup.py) ... \u001b[?25l\u001b[?25hdone\n",
            "  Created wheel for pyspark: filename=pyspark-3.1.2-py2.py3-none-any.whl size=212880768 sha256=925ad779f9b865b639746db7bbd6fe3ce28dfd4bca222b4b609c17f38e3b9e2b\n",
            "  Stored in directory: /root/.cache/pip/wheels/40/1b/2c/30f43be2627857ab80062bef1527c0128f7b4070b6b2d02139\n",
            "Successfully built pyspark\n",
            "Installing collected packages: py4j, pyspark\n",
            "Successfully installed py4j-0.10.9 pyspark-3.1.2\n"
          ],
          "name": "stdout"
        }
      ]
    },
    {
      "cell_type": "code",
      "metadata": {
        "id": "_8znIYx5El6o"
      },
      "source": [
        "import pyspark"
      ],
      "execution_count": 2,
      "outputs": []
    },
    {
      "cell_type": "code",
      "metadata": {
        "id": "gWEQCSTiIkIH"
      },
      "source": [
        "sc = pyspark.SparkContext(appName=\"maps_and_lazy_evaluation_sample\")\n",
        "\n",
        "players_log = [\n",
        "        \"Messi\",\n",
        "        \"Ronaldo\",\n",
        "        \"Maradona\",\n",
        "        \"Messi\",\n",
        "        \"Lewandowski\",\n",
        "        \"Mbappe\",\n",
        "        \"Ronaldo\",\n",
        "        \"Messi\",\n",
        "        \"Neymar\"\n",
        "]\n",
        "\n",
        "# parallelize the log_of_players to use with Spark\n",
        "distributed_player_log = sc.parallelize(players_log)"
      ],
      "execution_count": 3,
      "outputs": []
    },
    {
      "cell_type": "code",
      "metadata": {
        "colab": {
          "base_uri": "https://localhost:8080/",
          "height": 35
        },
        "id": "BE3NOgZFI1GN",
        "outputId": "5c78284f-e32d-4e1c-d135-5d7618b1ddf8"
      },
      "source": [
        "def convert_to_lowercase(player):\n",
        "    return player.lower()\n",
        "\n",
        "convert_to_lowercase(\"Ronaldo\")"
      ],
      "execution_count": 4,
      "outputs": [
        {
          "output_type": "execute_result",
          "data": {
            "application/vnd.google.colaboratory.intrinsic+json": {
              "type": "string"
            },
            "text/plain": [
              "'ronaldo'"
            ]
          },
          "metadata": {
            "tags": []
          },
          "execution_count": 4
        }
      ]
    },
    {
      "cell_type": "code",
      "metadata": {
        "colab": {
          "base_uri": "https://localhost:8080/"
        },
        "id": "uXbRX4OBJBHJ",
        "outputId": "3ad02b65-528e-4dec-c57b-58403e520317"
      },
      "source": [
        "# The following code cells demonstrate how to apply this function using a map step. \n",
        "# The map step will go through each song in the list and apply the convert_song_to_lowercase() function.\n",
        "\n",
        "distributed_player_log.map(convert_to_lowercase)"
      ],
      "execution_count": 6,
      "outputs": [
        {
          "output_type": "execute_result",
          "data": {
            "text/plain": [
              "PythonRDD[1] at RDD at PythonRDD.scala:53"
            ]
          },
          "metadata": {
            "tags": []
          },
          "execution_count": 6
        }
      ]
    },
    {
      "cell_type": "markdown",
      "metadata": {
        "id": "7tJYkpu5JWAO"
      },
      "source": [
        "You'll notice that this code cell ran quite quickly. This is because of lazy evaluation. Spark does not actually execute the map step unless it needs to.\n",
        "\n",
        "\"RDD\" in the output refers to resilient distributed dataset. RDDs are exactly what they say they are: fault-tolerant datasets distributed across a cluster. This is how Spark stores data.\n",
        "\n",
        "To get Spark to actually run the map step, you need to use an \"action\". One available action is the collect method. The collect() method takes the results from all of the clusters and \"collects\" them into a single list on the master node."
      ]
    },
    {
      "cell_type": "code",
      "metadata": {
        "colab": {
          "base_uri": "https://localhost:8080/"
        },
        "id": "56siKtKEJPfJ",
        "outputId": "c4a5072c-df4a-48dd-cbbf-02b576be3237"
      },
      "source": [
        "distributed_player_log.map(convert_to_lowercase).collect()"
      ],
      "execution_count": 7,
      "outputs": [
        {
          "output_type": "execute_result",
          "data": {
            "text/plain": [
              "['messi',\n",
              " 'ronaldo',\n",
              " 'maradona',\n",
              " 'messi',\n",
              " 'lewandowski',\n",
              " 'mbappe',\n",
              " 'ronaldo',\n",
              " 'messi',\n",
              " 'neymar']"
            ]
          },
          "metadata": {
            "tags": []
          },
          "execution_count": 7
        }
      ]
    },
    {
      "cell_type": "code",
      "metadata": {
        "colab": {
          "base_uri": "https://localhost:8080/"
        },
        "id": "hbXNTOPLJcc7",
        "outputId": "867bf2e8-d0f7-4e8d-d169-1b1a0c6dc372"
      },
      "source": [
        "distributed_player_log.map(lambda x: x.lower()).collect()"
      ],
      "execution_count": 8,
      "outputs": [
        {
          "output_type": "execute_result",
          "data": {
            "text/plain": [
              "['messi',\n",
              " 'ronaldo',\n",
              " 'maradona',\n",
              " 'messi',\n",
              " 'lewandowski',\n",
              " 'mbappe',\n",
              " 'ronaldo',\n",
              " 'messi',\n",
              " 'neymar']"
            ]
          },
          "metadata": {
            "tags": []
          },
          "execution_count": 8
        }
      ]
    },
    {
      "cell_type": "code",
      "metadata": {
        "id": "1uM9u7hqJiEi"
      },
      "source": [
        ""
      ],
      "execution_count": null,
      "outputs": []
    }
  ]
}